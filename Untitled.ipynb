{
 "cells": [
  {
   "cell_type": "code",
   "execution_count": null,
   "id": "fb65f47a-bea9-4b22-88e6-e4f477b8fb1e",
   "metadata": {},
   "outputs": [],
   "source": []
  }
 ],
 "metadata": {
  "kernelspec": {
   "display_name": "",
   "name": ""
  },
  "language_info": {
   "name": ""
  }
 },
 "nbformat": 4,
 "nbformat_minor": 5
}
